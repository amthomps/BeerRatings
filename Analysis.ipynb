{
 "cells": [
  {
   "cell_type": "markdown",
   "metadata": {},
   "source": [
    "# Analysis of Beer Ratings\n",
    "\n",
    "This is an analysis of the collected Untappd data.  The goal is to generate a model for beer ratings on the Untappd website in order to predict the rating for a new beer.  "
   ]
  },
  {
   "cell_type": "markdown",
   "metadata": {},
   "source": [
    "## Load data\n",
    "The csv's generated in *CollectData.ipynb* are first imported. The two csv's are merged into a single data frame such that each row contains data for a single beer and details of that beer's brewery."
   ]
  },
  {
   "cell_type": "code",
   "execution_count": 27,
   "metadata": {},
   "outputs": [
    {
     "data": {
      "text/html": [
       "<div>\n",
       "<style>\n",
       "    .dataframe thead tr:only-child th {\n",
       "        text-align: right;\n",
       "    }\n",
       "\n",
       "    .dataframe thead th {\n",
       "        text-align: left;\n",
       "    }\n",
       "\n",
       "    .dataframe tbody tr th {\n",
       "        vertical-align: top;\n",
       "    }\n",
       "</style>\n",
       "<table border=\"1\" class=\"dataframe\">\n",
       "  <thead>\n",
       "    <tr style=\"text-align: right;\">\n",
       "      <th></th>\n",
       "      <th>ID</th>\n",
       "      <th>BeerName</th>\n",
       "      <th>BrewName</th>\n",
       "      <th>BeerType</th>\n",
       "      <th>BeerRate</th>\n",
       "      <th>ABV</th>\n",
       "      <th>IBU</th>\n",
       "      <th>NRate</th>\n",
       "      <th>BeerDate</th>\n",
       "      <th>BrewID</th>\n",
       "      <th>City</th>\n",
       "      <th>State</th>\n",
       "      <th>BrewType</th>\n",
       "      <th>BrewRate</th>\n",
       "      <th>NBrew</th>\n",
       "      <th>NBrewRate</th>\n",
       "      <th>BrewDate</th>\n",
       "    </tr>\n",
       "  </thead>\n",
       "  <tbody>\n",
       "    <tr>\n",
       "      <th>0</th>\n",
       "      <td>1200000</td>\n",
       "      <td>Nate's New World Kolsch</td>\n",
       "      <td>Faction Brewing</td>\n",
       "      <td>K�lsch</td>\n",
       "      <td>(3.68)</td>\n",
       "      <td>4.8% ABV</td>\n",
       "      <td>37 IBU</td>\n",
       "      <td>102 Ratings</td>\n",
       "      <td>Added 08/14/15</td>\n",
       "      <td>/FactionBrewing</td>\n",
       "      <td>Alameda</td>\n",
       "      <td>CA United States</td>\n",
       "      <td>Micro Brewery</td>\n",
       "      <td>(3.79)</td>\n",
       "      <td>110,145</td>\n",
       "      <td>85,777 Ratings</td>\n",
       "      <td>Added 02/13/13</td>\n",
       "    </tr>\n",
       "    <tr>\n",
       "      <th>1</th>\n",
       "      <td>1200001</td>\n",
       "      <td>Dark Matter Black IPA</td>\n",
       "      <td>Bugnutty Brewing Company</td>\n",
       "      <td>IPA - Black / Cascadian Dark Ale</td>\n",
       "      <td>(3.78)</td>\n",
       "      <td>6.5% ABV</td>\n",
       "      <td>67 IBU</td>\n",
       "      <td>488 Ratings</td>\n",
       "      <td>Added 07/23/16</td>\n",
       "      <td>/BugnuttyBrew</td>\n",
       "      <td>Merritt Island</td>\n",
       "      <td>FL United States</td>\n",
       "      <td>Micro Brewery</td>\n",
       "      <td>(3.68)</td>\n",
       "      <td>10,635</td>\n",
       "      <td>8,221 Ratings</td>\n",
       "      <td>Added 09/09/13</td>\n",
       "    </tr>\n",
       "    <tr>\n",
       "      <th>2</th>\n",
       "      <td>1200002</td>\n",
       "      <td>Pucker Punch</td>\n",
       "      <td>Golden Coast Mead</td>\n",
       "      <td>Mead - Other</td>\n",
       "      <td>(3.98)</td>\n",
       "      <td>12% ABV</td>\n",
       "      <td>No IBU</td>\n",
       "      <td>84 Ratings</td>\n",
       "      <td>Added 08/14/15</td>\n",
       "      <td>/goldencoastmead</td>\n",
       "      <td>Oceanside</td>\n",
       "      <td>CA United States</td>\n",
       "      <td>Cidery / Meadery</td>\n",
       "      <td>(3.61)</td>\n",
       "      <td>9,293</td>\n",
       "      <td>7,400 Ratings</td>\n",
       "      <td>Added 01/14/12</td>\n",
       "    </tr>\n",
       "  </tbody>\n",
       "</table>\n",
       "</div>"
      ],
      "text/plain": [
       "        ID                 BeerName                  BrewName  \\\n",
       "0  1200000  Nate's New World Kolsch           Faction Brewing   \n",
       "1  1200001    Dark Matter Black IPA  Bugnutty Brewing Company   \n",
       "2  1200002             Pucker Punch         Golden Coast Mead   \n",
       "\n",
       "                           BeerType BeerRate         ABV       IBU  \\\n",
       "0                            K�lsch   (3.68)   4.8% ABV    37 IBU    \n",
       "1  IPA - Black / Cascadian Dark Ale   (3.78)   6.5% ABV    67 IBU    \n",
       "2                      Mead - Other   (3.98)    12% ABV    No IBU    \n",
       "\n",
       "           NRate          BeerDate            BrewID             City  \\\n",
       "0   102 Ratings    Added 08/14/15    /FactionBrewing          Alameda   \n",
       "1   488 Ratings    Added 07/23/16      /BugnuttyBrew   Merritt Island   \n",
       "2    84 Ratings    Added 08/14/15   /goldencoastmead        Oceanside   \n",
       "\n",
       "               State          BrewType BrewRate    NBrew         NBrewRate  \\\n",
       "0  CA United States      Micro Brewery   (3.79)  110,145   85,777 Ratings    \n",
       "1  FL United States      Micro Brewery   (3.68)   10,635    8,221 Ratings    \n",
       "2  CA United States   Cidery / Meadery   (3.61)    9,293    7,400 Ratings    \n",
       "\n",
       "          BrewDate  \n",
       "0   Added 02/13/13  \n",
       "1   Added 09/09/13  \n",
       "2   Added 01/14/12  "
      ]
     },
     "execution_count": 27,
     "metadata": {},
     "output_type": "execute_result"
    }
   ],
   "source": [
    "import pandas as pd\n",
    "beerdf = pd.read_csv(\"untappd2.csv\", header=None)\n",
    "brewdf = pd.read_csv(\"breweries.csv\", header=None)\n",
    "beernames = ['ID', 'BeerName', 'BrewName', 'BeerType', 'BeerRate', 'ABV', 'IBU', 'NRate', 'BeerDate', 'BrewID']\n",
    "brewnames = ['BrewID', 'City', 'State', 'BrewType', 'BrewRate', 'NBrew', 'NBrewRate', 'BrewDate']\n",
    "beerdf.columns = beernames\n",
    "brewdf.columns = brewnames\n",
    "#merge the two data frames so that each row describes one beer and has data about the beer and it's brewery\n",
    "full = pd.merge(beerdf, brewdf, on='BrewID', how='outer')\n",
    "full.head(3)"
   ]
  },
  {
   "cell_type": "markdown",
   "metadata": {},
   "source": [
    "## Clean data\n",
    "Before generating our model, the specific rows and features need to be carefully filtered and cleaned.\n",
    "\n",
    "One such filter removes all breweries/beers originating outside the USA.  Most of the data (299 out of 331 entries) is from the USA, and filtering it as such will allow a USA region feature to be added to the model."
   ]
  },
  {
   "cell_type": "code",
   "execution_count": 28,
   "metadata": {},
   "outputs": [
    {
     "name": "stdout",
     "output_type": "stream",
     "text": [
      "total entries collected: 348\n",
      "total complete entries: 331\n",
      "total US entries: 299\n"
     ]
    }
   ],
   "source": [
    "print('total entries collected: ' + str(len(full)))\n",
    "#We are only interested in beers from rated breweries in the us\n",
    "#filter out incomplete entries\n",
    "full_noNA = full.dropna()\n",
    "print('total complete entries: ' + str(len(full_noNA)))\n",
    "#keep only US beers\n",
    "full_USA = full_noNA.loc[full_noNA.State.str.contains('United States'),:]\n",
    "print('total US entries: ' + str(len(full_USA)))"
   ]
  },
  {
   "cell_type": "markdown",
   "metadata": {},
   "source": [
    "Use regular expressions to clean the values of unwanted characters such as %, -, and redundant labels."
   ]
  },
  {
   "cell_type": "code",
   "execution_count": 29,
   "metadata": {
    "collapsed": true
   },
   "outputs": [],
   "source": [
    "import re\n",
    "#use regex to remove unwanted characters\n",
    "pd.options.mode.chained_assignment = None \n",
    "#the beer type sometimes has a \"-\" after the type to add additional descriptors.  Keep everything before the \"-\".\n",
    "full_USA['BeerType'] = full_USA.BeerType.str.replace(' -.*', '')\n",
    "#remove the parenthesis around the rating\n",
    "full_USA['BeerRate'] = full_USA.BeerRate.str.replace('(', '')\n",
    "full_USA['BeerRate'] = full_USA.BeerRate.str.replace(')', '')\n",
    "#extract the number for the ABV, everything before the %\n",
    "full_USA['ABV'] = full_USA.ABV.str.replace('%.*', '')\n",
    "full_USA['ABV'] = pd.to_numeric(full_USA['ABV'], errors='coerce')\n",
    "#extract the number for IBU, everything before the %\n",
    "full_USA['IBU'] = full_USA.IBU.str.replace(' IBU', '')\n",
    "full_USA['IBU'] = pd.to_numeric(full_USA['IBU'], errors='coerce')\n",
    "#NRate keep the number only, everything before \" Ratings\".\n",
    "full_USA['NRate'] = full_USA.NRate.str.replace(' Ratings', '')\n",
    "full_USA['NRate'] = full_USA.NRate.str.replace(',', '')\n",
    "full_USA['NRate'] = pd.to_numeric(full_USA['NRate'], errors='coerce')\n",
    "#Extract date\n",
    "full_USA['BeerDate'] = full_USA.BeerDate.str.replace('Added ', '')\n",
    "#Extract state\n",
    "full_USA['State'] = full_USA.State.str.replace(' .*', '')\n",
    "#Clean up brew rate\n",
    "full_USA['BrewRate'] = full_USA.BrewRate.str.replace('(', '')\n",
    "full_USA['BrewRate'] = full_USA.BrewRate.str.replace(')', '')\n",
    "#Clean up NBrew\n",
    "full_USA['NBrew'] = full_USA.NBrew.str.replace(',', '')\n",
    "#Clean up NBrewRate\n",
    "full_USA['NBrewRate'] = full_USA.NBrewRate.str.replace(' Ratings', '')\n",
    "full_USA['NBrewRate'] = full_USA.NBrewRate.str.replace(',', '')\n",
    "#Clean up date\n",
    "full_USA['BrewDate'] = full_USA.BrewDate.str.replace('Added ', '')"
   ]
  },
  {
   "cell_type": "markdown",
   "metadata": {},
   "source": [
    "Only certain variables from this data set are useful for machine learning, so I built a matrix of the relevant data.  The variables of interest include the type of beer, the alcohol by volume (ABV), the state of origin, the type of brewery (microbrewery, brew pub, etc.), the overall brewery rating on the website, the number of brews listed for the brewery, the total number of ratings received for beers at that brewery, and the date the brewery was added to the website.  We also keep the beer rating, which is the value we will try to predict with our model. The first five rows of data are printed below."
   ]
  },
  {
   "cell_type": "code",
   "execution_count": 45,
   "metadata": {},
   "outputs": [
    {
     "data": {
      "text/html": [
       "<div>\n",
       "<style>\n",
       "    .dataframe thead tr:only-child th {\n",
       "        text-align: right;\n",
       "    }\n",
       "\n",
       "    .dataframe thead th {\n",
       "        text-align: left;\n",
       "    }\n",
       "\n",
       "    .dataframe tbody tr th {\n",
       "        vertical-align: top;\n",
       "    }\n",
       "</style>\n",
       "<table border=\"1\" class=\"dataframe\">\n",
       "  <thead>\n",
       "    <tr style=\"text-align: right;\">\n",
       "      <th></th>\n",
       "      <th>BeerType</th>\n",
       "      <th>BeerRate</th>\n",
       "      <th>ABV</th>\n",
       "      <th>State</th>\n",
       "      <th>BrewType</th>\n",
       "      <th>BrewRate</th>\n",
       "      <th>NBrewRate</th>\n",
       "      <th>BrewDate</th>\n",
       "    </tr>\n",
       "  </thead>\n",
       "  <tbody>\n",
       "    <tr>\n",
       "      <th>0</th>\n",
       "      <td>K�lsch</td>\n",
       "      <td>3.68</td>\n",
       "      <td>4.8</td>\n",
       "      <td>CA</td>\n",
       "      <td>Micro Brewery</td>\n",
       "      <td>3.79</td>\n",
       "      <td>85777</td>\n",
       "      <td>02/13/13</td>\n",
       "    </tr>\n",
       "    <tr>\n",
       "      <th>1</th>\n",
       "      <td>IPA</td>\n",
       "      <td>3.78</td>\n",
       "      <td>6.5</td>\n",
       "      <td>FL</td>\n",
       "      <td>Micro Brewery</td>\n",
       "      <td>3.68</td>\n",
       "      <td>8221</td>\n",
       "      <td>09/09/13</td>\n",
       "    </tr>\n",
       "    <tr>\n",
       "      <th>2</th>\n",
       "      <td>Mead</td>\n",
       "      <td>3.98</td>\n",
       "      <td>12.0</td>\n",
       "      <td>CA</td>\n",
       "      <td>Cidery / Meadery</td>\n",
       "      <td>3.61</td>\n",
       "      <td>7400</td>\n",
       "      <td>01/14/12</td>\n",
       "    </tr>\n",
       "    <tr>\n",
       "      <th>3</th>\n",
       "      <td>IPA</td>\n",
       "      <td>3.66</td>\n",
       "      <td>NaN</td>\n",
       "      <td>TN</td>\n",
       "      <td>Micro Brewery</td>\n",
       "      <td>3.62</td>\n",
       "      <td>72700</td>\n",
       "      <td>10/11/10</td>\n",
       "    </tr>\n",
       "    <tr>\n",
       "      <th>4</th>\n",
       "      <td>Witbier</td>\n",
       "      <td>3.52</td>\n",
       "      <td>4.5</td>\n",
       "      <td>OH</td>\n",
       "      <td>Micro Brewery</td>\n",
       "      <td>3.74</td>\n",
       "      <td>563853</td>\n",
       "      <td>06/29/13</td>\n",
       "    </tr>\n",
       "  </tbody>\n",
       "</table>\n",
       "</div>"
      ],
      "text/plain": [
       "  BeerType BeerRate   ABV State          BrewType BrewRate NBrewRate  \\\n",
       "0   K�lsch     3.68   4.8    CA     Micro Brewery     3.79    85777    \n",
       "1      IPA     3.78   6.5    FL     Micro Brewery     3.68     8221    \n",
       "2     Mead     3.98  12.0    CA  Cidery / Meadery     3.61     7400    \n",
       "3      IPA     3.66   NaN    TN     Micro Brewery     3.62    72700    \n",
       "4  Witbier     3.52   4.5    OH     Micro Brewery     3.74   563853    \n",
       "\n",
       "    BrewDate  \n",
       "0   02/13/13  \n",
       "1   09/09/13  \n",
       "2   01/14/12  \n",
       "3   10/11/10  \n",
       "4   06/29/13  "
      ]
     },
     "execution_count": 45,
     "metadata": {},
     "output_type": "execute_result"
    }
   ],
   "source": [
    "cols = ['BeerType', 'BeerRate', 'ABV', 'State', 'BrewType', 'BrewRate', 'NBrewRate', 'BrewDate']\n",
    "full_USA_filter = full_USA.loc[:,cols]\n",
    "full_USA_filter.head()"
   ]
  },
  {
   "cell_type": "markdown",
   "metadata": {},
   "source": [
    "Our model needs sufficient data in order to provide meaningful results.  For each variable (column), we will only keep values that are represented at least 15 times.  Values sparsly represented we recode the value as 'NA'.  Below, the beer type and brewery type are recoded in this way.  We have plenty of IPA's and Pale Ales in our data set, but other types are more sparse."
   ]
  },
  {
   "cell_type": "code",
   "execution_count": 46,
   "metadata": {},
   "outputs": [
    {
     "data": {
      "text/plain": [
       "IPA                       61\n",
       "Pale Ale                  23\n",
       "Sour                      20\n",
       "Stout                     17\n",
       "Saison / Farmhouse Ale    17\n",
       "Red Ale                   13\n",
       "Porter                    13\n",
       "Name: BeerType, dtype: int64"
      ]
     },
     "execution_count": 46,
     "metadata": {},
     "output_type": "execute_result"
    }
   ],
   "source": [
    "#View the top types of beer in our dataset\n",
    "BeerTypeCounts = full_USA_filter.BeerType.value_counts()\n",
    "BeerTypeCounts.head(7)"
   ]
  },
  {
   "cell_type": "code",
   "execution_count": 47,
   "metadata": {
    "collapsed": true
   },
   "outputs": [],
   "source": [
    "#Recode the beer types keeping only top beer types (all others at NA)\n",
    "full_USA_filter.BeerType = full_USA_filter.BeerType.astype('category', categories=['IPA','Pale Ale','Sour','Saison / Farmhouse Ale', 'Stout'])\n",
    "BeerTypeCounts = full_USA_filter.BeerType.value_counts()"
   ]
  },
  {
   "cell_type": "code",
   "execution_count": 48,
   "metadata": {},
   "outputs": [
    {
     "data": {
      "text/plain": [
       "Micro Brewery       240\n",
       "Brew Pub             37\n",
       "Cidery / Meadery      8\n",
       "Macro Brewery         8\n",
       "Nano Brewery          4\n",
       "Home Brewery          2\n",
       "Name: BrewType, dtype: int64"
      ]
     },
     "execution_count": 48,
     "metadata": {},
     "output_type": "execute_result"
    }
   ],
   "source": [
    "#View the top brewtypes in our dataset\n",
    "BrewTypeCounts = full_USA_filter.BrewType.value_counts()\n",
    "BrewTypeCounts"
   ]
  },
  {
   "cell_type": "code",
   "execution_count": 49,
   "metadata": {
    "collapsed": true
   },
   "outputs": [],
   "source": [
    "#Recode the brew types keeping only top brewery types\n",
    "full_USA_filter.BrewType = full_USA_filter.BrewType.astype('category', categories=['Micro Brewery','Brew Pub'])"
   ]
  },
  {
   "cell_type": "markdown",
   "metadata": {},
   "source": [
    "We have sparse data for each state, but should have good representation if we instead classify by region."
   ]
  },
  {
   "cell_type": "code",
   "execution_count": 50,
   "metadata": {
    "scrolled": true
   },
   "outputs": [
    {
     "data": {
      "text/html": [
       "<div>\n",
       "<style>\n",
       "    .dataframe thead tr:only-child th {\n",
       "        text-align: right;\n",
       "    }\n",
       "\n",
       "    .dataframe thead th {\n",
       "        text-align: left;\n",
       "    }\n",
       "\n",
       "    .dataframe tbody tr th {\n",
       "        vertical-align: top;\n",
       "    }\n",
       "</style>\n",
       "<table border=\"1\" class=\"dataframe\">\n",
       "  <thead>\n",
       "    <tr style=\"text-align: right;\">\n",
       "      <th></th>\n",
       "      <th>BeerType</th>\n",
       "      <th>BeerRate</th>\n",
       "      <th>ABV</th>\n",
       "      <th>State</th>\n",
       "      <th>BrewType</th>\n",
       "      <th>BrewRate</th>\n",
       "      <th>NBrewRate</th>\n",
       "      <th>BrewDate</th>\n",
       "      <th>Region</th>\n",
       "    </tr>\n",
       "  </thead>\n",
       "  <tbody>\n",
       "    <tr>\n",
       "      <th>0</th>\n",
       "      <td>NaN</td>\n",
       "      <td>3.68</td>\n",
       "      <td>4.8</td>\n",
       "      <td>CA</td>\n",
       "      <td>Micro Brewery</td>\n",
       "      <td>3.79</td>\n",
       "      <td>85777</td>\n",
       "      <td>02/13/13</td>\n",
       "      <td>West</td>\n",
       "    </tr>\n",
       "    <tr>\n",
       "      <th>1</th>\n",
       "      <td>IPA</td>\n",
       "      <td>3.78</td>\n",
       "      <td>6.5</td>\n",
       "      <td>FL</td>\n",
       "      <td>Micro Brewery</td>\n",
       "      <td>3.68</td>\n",
       "      <td>8221</td>\n",
       "      <td>09/09/13</td>\n",
       "      <td>South</td>\n",
       "    </tr>\n",
       "    <tr>\n",
       "      <th>2</th>\n",
       "      <td>NaN</td>\n",
       "      <td>3.98</td>\n",
       "      <td>12.0</td>\n",
       "      <td>CA</td>\n",
       "      <td>NaN</td>\n",
       "      <td>3.61</td>\n",
       "      <td>7400</td>\n",
       "      <td>01/14/12</td>\n",
       "      <td>West</td>\n",
       "    </tr>\n",
       "    <tr>\n",
       "      <th>3</th>\n",
       "      <td>IPA</td>\n",
       "      <td>3.66</td>\n",
       "      <td>NaN</td>\n",
       "      <td>TN</td>\n",
       "      <td>Micro Brewery</td>\n",
       "      <td>3.62</td>\n",
       "      <td>72700</td>\n",
       "      <td>10/11/10</td>\n",
       "      <td>South</td>\n",
       "    </tr>\n",
       "    <tr>\n",
       "      <th>4</th>\n",
       "      <td>NaN</td>\n",
       "      <td>3.52</td>\n",
       "      <td>4.5</td>\n",
       "      <td>OH</td>\n",
       "      <td>Micro Brewery</td>\n",
       "      <td>3.74</td>\n",
       "      <td>563853</td>\n",
       "      <td>06/29/13</td>\n",
       "      <td>Midwest</td>\n",
       "    </tr>\n",
       "  </tbody>\n",
       "</table>\n",
       "</div>"
      ],
      "text/plain": [
       "  BeerType BeerRate   ABV State       BrewType BrewRate NBrewRate   BrewDate  \\\n",
       "0      NaN     3.68   4.8    CA  Micro Brewery     3.79    85777    02/13/13   \n",
       "1      IPA     3.78   6.5    FL  Micro Brewery     3.68     8221    09/09/13   \n",
       "2      NaN     3.98  12.0    CA            NaN     3.61     7400    01/14/12   \n",
       "3      IPA     3.66   NaN    TN  Micro Brewery     3.62    72700    10/11/10   \n",
       "4      NaN     3.52   4.5    OH  Micro Brewery     3.74   563853    06/29/13   \n",
       "\n",
       "    Region  \n",
       "0     West  \n",
       "1    South  \n",
       "2     West  \n",
       "3    South  \n",
       "4  Midwest  "
      ]
     },
     "execution_count": 50,
     "metadata": {},
     "output_type": "execute_result"
    }
   ],
   "source": [
    "import numpy as np\n",
    "#Create a Region column for US geographic areas\n",
    "Midwest = ['IA', 'IL', 'IN', 'KS', 'MI', 'MN', 'MO', 'ND', 'NE', 'OH', 'SD', 'WI']\n",
    "Northeast = ['CT', 'MA', 'ME', 'NH', 'NJ', 'NY', 'PA', 'RI', 'VT']\n",
    "South = ['AL', 'AR', 'DE', 'FL', 'GA', 'KY', 'LA', 'MD', 'MS', 'NC', 'OK', 'SC', 'TN', 'TX', 'VA', 'WV']\n",
    "West = ['AK', 'AZ', 'CA', 'CO', 'HI', 'ID', 'MT', 'NM', 'NV', 'OR', 'UT', 'WA', 'WY']\n",
    "\n",
    "conditions = [\n",
    "    (full_USA_filter.State.isin(Midwest)),\n",
    "    (full_USA_filter.State.isin(Northeast)),\n",
    "    (full_USA_filter.State.isin(South)),\n",
    "    (full_USA_filter.State.isin(West))]\n",
    "\n",
    "choices = ['Midwest', 'Northeast', 'South', 'West']\n",
    "full_USA_filter['Region'] = np.select(conditions, choices, default = 'none')\n",
    "full_USA_filter.head()"
   ]
  },
  {
   "cell_type": "markdown",
   "metadata": {},
   "source": [
    "Convert all numeric values to numeric data types and the date values to datetime objects."
   ]
  },
  {
   "cell_type": "code",
   "execution_count": 52,
   "metadata": {},
   "outputs": [
    {
     "data": {
      "text/plain": [
       "BeerType           category\n",
       "BeerRate            float64\n",
       "ABV                 float64\n",
       "State                object\n",
       "BrewType           category\n",
       "BrewRate            float64\n",
       "NBrewRate             int64\n",
       "BrewDate     datetime64[ns]\n",
       "Region               object\n",
       "dtype: object"
      ]
     },
     "execution_count": 52,
     "metadata": {},
     "output_type": "execute_result"
    }
   ],
   "source": [
    "#Make sure numbers are of a numeric type, date is a date type\n",
    "full_USA_filter.BeerRate = pd.to_numeric(full_USA_filter.BeerRate)\n",
    "full_USA_filter.BrewRate = pd.to_numeric(full_USA_filter.BrewRate, errors='coerce')\n",
    "#full_USA_filter.NBrew = pd.to_numeric(full_USA_filter.NBrew)\n",
    "full_USA_filter.NBrewRate = pd.to_numeric(full_USA_filter.NBrewRate)\n",
    "full_USA_filter.BrewDate = pd.to_datetime(full_USA_filter.BrewDate)\n",
    "full_USA_filter.dtypes"
   ]
  },
  {
   "cell_type": "markdown",
   "metadata": {},
   "source": [
    "Calculate a new variable, number of days the brewery has been listed.  Use this new variable to also calculate number of reviews per day."
   ]
  },
  {
   "cell_type": "code",
   "execution_count": 53,
   "metadata": {},
   "outputs": [
    {
     "data": {
      "text/html": [
       "<div>\n",
       "<style>\n",
       "    .dataframe thead tr:only-child th {\n",
       "        text-align: right;\n",
       "    }\n",
       "\n",
       "    .dataframe thead th {\n",
       "        text-align: left;\n",
       "    }\n",
       "\n",
       "    .dataframe tbody tr th {\n",
       "        vertical-align: top;\n",
       "    }\n",
       "</style>\n",
       "<table border=\"1\" class=\"dataframe\">\n",
       "  <thead>\n",
       "    <tr style=\"text-align: right;\">\n",
       "      <th></th>\n",
       "      <th>BeerType</th>\n",
       "      <th>BeerRate</th>\n",
       "      <th>ABV</th>\n",
       "      <th>BrewType</th>\n",
       "      <th>BrewRate</th>\n",
       "      <th>NBrewRate</th>\n",
       "      <th>Region</th>\n",
       "      <th>NDays</th>\n",
       "    </tr>\n",
       "  </thead>\n",
       "  <tbody>\n",
       "    <tr>\n",
       "      <th>0</th>\n",
       "      <td>NaN</td>\n",
       "      <td>3.68</td>\n",
       "      <td>4.8</td>\n",
       "      <td>Micro Brewery</td>\n",
       "      <td>3.79</td>\n",
       "      <td>85777</td>\n",
       "      <td>West</td>\n",
       "      <td>1947</td>\n",
       "    </tr>\n",
       "    <tr>\n",
       "      <th>1</th>\n",
       "      <td>IPA</td>\n",
       "      <td>3.78</td>\n",
       "      <td>6.5</td>\n",
       "      <td>Micro Brewery</td>\n",
       "      <td>3.68</td>\n",
       "      <td>8221</td>\n",
       "      <td>South</td>\n",
       "      <td>1739</td>\n",
       "    </tr>\n",
       "    <tr>\n",
       "      <th>2</th>\n",
       "      <td>NaN</td>\n",
       "      <td>3.98</td>\n",
       "      <td>12.0</td>\n",
       "      <td>NaN</td>\n",
       "      <td>3.61</td>\n",
       "      <td>7400</td>\n",
       "      <td>West</td>\n",
       "      <td>2343</td>\n",
       "    </tr>\n",
       "    <tr>\n",
       "      <th>3</th>\n",
       "      <td>IPA</td>\n",
       "      <td>3.66</td>\n",
       "      <td>NaN</td>\n",
       "      <td>Micro Brewery</td>\n",
       "      <td>3.62</td>\n",
       "      <td>72700</td>\n",
       "      <td>South</td>\n",
       "      <td>2803</td>\n",
       "    </tr>\n",
       "    <tr>\n",
       "      <th>4</th>\n",
       "      <td>NaN</td>\n",
       "      <td>3.52</td>\n",
       "      <td>4.5</td>\n",
       "      <td>Micro Brewery</td>\n",
       "      <td>3.74</td>\n",
       "      <td>563853</td>\n",
       "      <td>Midwest</td>\n",
       "      <td>1811</td>\n",
       "    </tr>\n",
       "  </tbody>\n",
       "</table>\n",
       "</div>"
      ],
      "text/plain": [
       "  BeerType  BeerRate   ABV       BrewType  BrewRate  NBrewRate   Region  NDays\n",
       "0      NaN      3.68   4.8  Micro Brewery      3.79      85777     West   1947\n",
       "1      IPA      3.78   6.5  Micro Brewery      3.68       8221    South   1739\n",
       "2      NaN      3.98  12.0            NaN      3.61       7400     West   2343\n",
       "3      IPA      3.66   NaN  Micro Brewery      3.62      72700    South   2803\n",
       "4      NaN      3.52   4.5  Micro Brewery      3.74     563853  Midwest   1811"
      ]
     },
     "execution_count": 53,
     "metadata": {},
     "output_type": "execute_result"
    }
   ],
   "source": [
    "#Create a new feature NDays, the total number of days the brewery has existed on the site.\n",
    "today = pd.to_datetime('2018-06-14')\n",
    "full_USA_filter['NDays'] = today - full_USA_filter.BrewDate\n",
    "full_USA_filter.NDays = full_USA_filter.NDays.astype(str)\n",
    "full_USA_filter['NDays'] = full_USA_filter.NDays.str.replace(' days.*', '')\n",
    "full_USA_filter.NDays = pd.to_numeric(full_USA_filter.NDays)\n",
    "#remove the BrewDate column, instead using the NDays calculated from the date.\n",
    "full_USA_filter = full_USA_filter.drop('BrewDate', 1)\n",
    "#remove the State column, instead using the Region determined from the state.\n",
    "full_USA_filter = full_USA_filter.drop('State', 1)\n",
    "full_USA_filter.head()"
   ]
  },
  {
   "cell_type": "markdown",
   "metadata": {},
   "source": [
    "For the model to work, all data must be numerical.  We convert categorical data into dummy variables.  For example, the column region with values Midwest, Northeast, South, West becomes four columns (Midwest, Northeast, South, West) with values 1 or 0."
   ]
  },
  {
   "cell_type": "code",
   "execution_count": 54,
   "metadata": {
    "scrolled": true
   },
   "outputs": [
    {
     "data": {
      "text/html": [
       "<div>\n",
       "<style>\n",
       "    .dataframe thead tr:only-child th {\n",
       "        text-align: right;\n",
       "    }\n",
       "\n",
       "    .dataframe thead th {\n",
       "        text-align: left;\n",
       "    }\n",
       "\n",
       "    .dataframe tbody tr th {\n",
       "        vertical-align: top;\n",
       "    }\n",
       "</style>\n",
       "<table border=\"1\" class=\"dataframe\">\n",
       "  <thead>\n",
       "    <tr style=\"text-align: right;\">\n",
       "      <th></th>\n",
       "      <th>BeerRate</th>\n",
       "      <th>ABV</th>\n",
       "      <th>BrewRate</th>\n",
       "      <th>NBrewRate</th>\n",
       "      <th>NDays</th>\n",
       "      <th>BeerType_IPA</th>\n",
       "      <th>BeerType_Pale Ale</th>\n",
       "      <th>BeerType_Sour</th>\n",
       "      <th>BeerType_Saison / Farmhouse Ale</th>\n",
       "      <th>BeerType_Stout</th>\n",
       "      <th>BrewType_Micro Brewery</th>\n",
       "      <th>BrewType_Brew Pub</th>\n",
       "      <th>Region_Midwest</th>\n",
       "      <th>Region_Northeast</th>\n",
       "      <th>Region_South</th>\n",
       "      <th>Region_West</th>\n",
       "    </tr>\n",
       "  </thead>\n",
       "  <tbody>\n",
       "    <tr>\n",
       "      <th>0</th>\n",
       "      <td>3.68</td>\n",
       "      <td>4.8</td>\n",
       "      <td>3.79</td>\n",
       "      <td>85777</td>\n",
       "      <td>1947</td>\n",
       "      <td>0</td>\n",
       "      <td>0</td>\n",
       "      <td>0</td>\n",
       "      <td>0</td>\n",
       "      <td>0</td>\n",
       "      <td>1</td>\n",
       "      <td>0</td>\n",
       "      <td>0</td>\n",
       "      <td>0</td>\n",
       "      <td>0</td>\n",
       "      <td>1</td>\n",
       "    </tr>\n",
       "    <tr>\n",
       "      <th>1</th>\n",
       "      <td>3.78</td>\n",
       "      <td>6.5</td>\n",
       "      <td>3.68</td>\n",
       "      <td>8221</td>\n",
       "      <td>1739</td>\n",
       "      <td>1</td>\n",
       "      <td>0</td>\n",
       "      <td>0</td>\n",
       "      <td>0</td>\n",
       "      <td>0</td>\n",
       "      <td>1</td>\n",
       "      <td>0</td>\n",
       "      <td>0</td>\n",
       "      <td>0</td>\n",
       "      <td>1</td>\n",
       "      <td>0</td>\n",
       "    </tr>\n",
       "    <tr>\n",
       "      <th>2</th>\n",
       "      <td>3.98</td>\n",
       "      <td>12.0</td>\n",
       "      <td>3.61</td>\n",
       "      <td>7400</td>\n",
       "      <td>2343</td>\n",
       "      <td>0</td>\n",
       "      <td>0</td>\n",
       "      <td>0</td>\n",
       "      <td>0</td>\n",
       "      <td>0</td>\n",
       "      <td>0</td>\n",
       "      <td>0</td>\n",
       "      <td>0</td>\n",
       "      <td>0</td>\n",
       "      <td>0</td>\n",
       "      <td>1</td>\n",
       "    </tr>\n",
       "    <tr>\n",
       "      <th>3</th>\n",
       "      <td>3.66</td>\n",
       "      <td>NaN</td>\n",
       "      <td>3.62</td>\n",
       "      <td>72700</td>\n",
       "      <td>2803</td>\n",
       "      <td>1</td>\n",
       "      <td>0</td>\n",
       "      <td>0</td>\n",
       "      <td>0</td>\n",
       "      <td>0</td>\n",
       "      <td>1</td>\n",
       "      <td>0</td>\n",
       "      <td>0</td>\n",
       "      <td>0</td>\n",
       "      <td>1</td>\n",
       "      <td>0</td>\n",
       "    </tr>\n",
       "    <tr>\n",
       "      <th>4</th>\n",
       "      <td>3.52</td>\n",
       "      <td>4.5</td>\n",
       "      <td>3.74</td>\n",
       "      <td>563853</td>\n",
       "      <td>1811</td>\n",
       "      <td>0</td>\n",
       "      <td>0</td>\n",
       "      <td>0</td>\n",
       "      <td>0</td>\n",
       "      <td>0</td>\n",
       "      <td>1</td>\n",
       "      <td>0</td>\n",
       "      <td>1</td>\n",
       "      <td>0</td>\n",
       "      <td>0</td>\n",
       "      <td>0</td>\n",
       "    </tr>\n",
       "  </tbody>\n",
       "</table>\n",
       "</div>"
      ],
      "text/plain": [
       "   BeerRate   ABV  BrewRate  NBrewRate  NDays  BeerType_IPA  \\\n",
       "0      3.68   4.8      3.79      85777   1947             0   \n",
       "1      3.78   6.5      3.68       8221   1739             1   \n",
       "2      3.98  12.0      3.61       7400   2343             0   \n",
       "3      3.66   NaN      3.62      72700   2803             1   \n",
       "4      3.52   4.5      3.74     563853   1811             0   \n",
       "\n",
       "   BeerType_Pale Ale  BeerType_Sour  BeerType_Saison / Farmhouse Ale  \\\n",
       "0                  0              0                                0   \n",
       "1                  0              0                                0   \n",
       "2                  0              0                                0   \n",
       "3                  0              0                                0   \n",
       "4                  0              0                                0   \n",
       "\n",
       "   BeerType_Stout  BrewType_Micro Brewery  BrewType_Brew Pub  Region_Midwest  \\\n",
       "0               0                       1                  0               0   \n",
       "1               0                       1                  0               0   \n",
       "2               0                       0                  0               0   \n",
       "3               0                       1                  0               0   \n",
       "4               0                       1                  0               1   \n",
       "\n",
       "   Region_Northeast  Region_South  Region_West  \n",
       "0                 0             0            1  \n",
       "1                 0             1            0  \n",
       "2                 0             0            1  \n",
       "3                 0             1            0  \n",
       "4                 0             0            0  "
      ]
     },
     "execution_count": 54,
     "metadata": {},
     "output_type": "execute_result"
    }
   ],
   "source": [
    "full_USA_filter1 = pd.get_dummies(full_USA_filter)\n",
    "full_USA_filter1.head()"
   ]
  },
  {
   "cell_type": "markdown",
   "metadata": {},
   "source": [
    "Convert the rating y into a categorical variable.  Find the mean rating of all beers in the data set, and then make a categorical rating of 1 for above average, 0 for below average."
   ]
  },
  {
   "cell_type": "code",
   "execution_count": 55,
   "metadata": {},
   "outputs": [
    {
     "data": {
      "text/plain": [
       "(299, 16)"
      ]
     },
     "execution_count": 55,
     "metadata": {},
     "output_type": "execute_result"
    }
   ],
   "source": [
    "full_USA_filter1['BRCat'] = np.where(full_USA_filter1['BeerRate']>=full_USA_filter1.BeerRate.mean(), 1, 0)\n",
    "full_USA_filter1 = full_USA_filter1.drop('BeerRate', 1)\n",
    "full_USA_filter1.shape"
   ]
  },
  {
   "cell_type": "code",
   "execution_count": 56,
   "metadata": {},
   "outputs": [
    {
     "data": {
      "text/plain": [
       "(272, 16)"
      ]
     },
     "execution_count": 56,
     "metadata": {},
     "output_type": "execute_result"
    }
   ],
   "source": [
    "#filter out incomplete entries.  These entries do not have ABV listed\n",
    "full_USA_filter1 = full_USA_filter1.dropna()\n",
    "full_USA_filter1.shape"
   ]
  },
  {
   "cell_type": "markdown",
   "metadata": {},
   "source": [
    "## Visualization\n",
    "Our matrix is getting pretty large!  Let's try some visualizations just on the continuous variables."
   ]
  },
  {
   "cell_type": "code",
   "execution_count": 58,
   "metadata": {
    "scrolled": true
   },
   "outputs": [
    {
     "data": {
      "text/plain": [
       "array([[<matplotlib.axes._subplots.AxesSubplot object at 0x000001FA1F4AA978>,\n",
       "        <matplotlib.axes._subplots.AxesSubplot object at 0x000001FA1F690160>,\n",
       "        <matplotlib.axes._subplots.AxesSubplot object at 0x000001FA1F4E22E8>,\n",
       "        <matplotlib.axes._subplots.AxesSubplot object at 0x000001FA1F519438>],\n",
       "       [<matplotlib.axes._subplots.AxesSubplot object at 0x000001FA1F552518>,\n",
       "        <matplotlib.axes._subplots.AxesSubplot object at 0x000001FA1F552550>,\n",
       "        <matplotlib.axes._subplots.AxesSubplot object at 0x000001FA1F5B1EB8>,\n",
       "        <matplotlib.axes._subplots.AxesSubplot object at 0x000001FA1F5F6438>],\n",
       "       [<matplotlib.axes._subplots.AxesSubplot object at 0x000001FA1F6CFA58>,\n",
       "        <matplotlib.axes._subplots.AxesSubplot object at 0x000001FA1F585A90>,\n",
       "        <matplotlib.axes._subplots.AxesSubplot object at 0x000001FA1F73B208>,\n",
       "        <matplotlib.axes._subplots.AxesSubplot object at 0x000001FA1F776438>],\n",
       "       [<matplotlib.axes._subplots.AxesSubplot object at 0x000001FA1F7946D8>,\n",
       "        <matplotlib.axes._subplots.AxesSubplot object at 0x000001FA1F7E8588>,\n",
       "        <matplotlib.axes._subplots.AxesSubplot object at 0x000001FA1F81A208>,\n",
       "        <matplotlib.axes._subplots.AxesSubplot object at 0x000001FA1F853358>]], dtype=object)"
      ]
     },
     "execution_count": 58,
     "metadata": {},
     "output_type": "execute_result"
    },
    {
     "data": {
      "image/png": "[encoded data removed]",
      "text/plain": [
       "<matplotlib.figure.Figure at 0x1fa1e704e48>"
      ]
     },
     "metadata": {},
     "output_type": "display_data"
    }
   ],
   "source": [
    "#Try some exploratory data analysis\n",
    "%matplotlib inline\n",
    "import matplotlib.pyplot as plt\n",
    "plt.style.use('ggplot')\n",
    "XS = full_USA_filter1.iloc[:, :4]\n",
    "pd.plotting.scatter_matrix(XS, c = full_USA_filter1['BRCat'], figsize = [8,8], s = 10, marker = 'D')"
   ]
  },
  {
   "cell_type": "markdown",
   "metadata": {},
   "source": [
    "## Machine Learning Models: K-Nearest Neighbors\n",
    "The visualization looks pretty messy.  Lets see what our models can do.  Break the data into train and test sets.  Use feature scaling to normalize all categories to have a range of 1."
   ]
  },
  {
   "cell_type": "code",
   "execution_count": 59,
   "metadata": {
    "collapsed": true
   },
   "outputs": [],
   "source": [
    "#spit data into train and test\n",
    "#break the feature matrix 'X' from the beer rating 'y'\n",
    "y = full_USA_filter1['BRCat']\n",
    "X = full_USA_filter1.drop('BRCat', 1)\n",
    "#spit data into train and test\n",
    "from sklearn.model_selection import train_test_split\n",
    "X_train, X_test, y_train, y_test = train_test_split(X, y, test_size=0.3, random_state=64, stratify=y)"
   ]
  },
  {
   "cell_type": "code",
   "execution_count": 60,
   "metadata": {
    "collapsed": true
   },
   "outputs": [],
   "source": [
    "#use feature scaling\n",
    "from sklearn import preprocessing\n",
    "X_scaled = preprocessing.scale(X_train)\n",
    "scaler = preprocessing.StandardScaler().fit(X_train)\n",
    "X_test_scaled = scaler.transform(X_test)"
   ]
  },
  {
   "cell_type": "markdown",
   "metadata": {},
   "source": [
    "Find the optimal value for k from cross-validation.  Use this k for our model."
   ]
  },
  {
   "cell_type": "code",
   "execution_count": 62,
   "metadata": {},
   "outputs": [
    {
     "name": "stdout",
     "output_type": "stream",
     "text": [
      "{'n_neighbors': 3}\n",
      "0.636842105263\n"
     ]
    }
   ],
   "source": [
    "from sklearn.model_selection import GridSearchCV\n",
    "from sklearn.neighbors import KNeighborsClassifier\n",
    "knn = KNeighborsClassifier()\n",
    "#tune hyperparameters using a cross-validation set\n",
    "param_grid = {'n_neighbors': np.arange(2, 50)}\n",
    "knn_cv = GridSearchCV(knn, param_grid, cv=5)\n",
    "knn_cv.fit(X_scaled, y_train)\n",
    "print(knn_cv.best_params_)\n",
    "print(knn_cv.best_score_)"
   ]
  },
  {
   "cell_type": "code",
   "execution_count": 76,
   "metadata": {},
   "outputs": [
    {
     "name": "stdout",
     "output_type": "stream",
     "text": [
      "Test set predictions:\n",
      " [1 0 0 1 1 0 1 1 0 0 0 1 1 0 1 0 0 0 0 1 0 1 1 0 1 0 1 1 0 0 1 1 1 1 1 0 0\n",
      " 0 1 0 0 0 0 1 1 1 1 0 1 0 0 1 0 1 1 0 1 1 0 0 1 0 1 0 0 0 1 1 1 0 1 0 1 0\n",
      " 0 0 1 0 1 1 0 1]\n"
     ]
    }
   ],
   "source": [
    "#set k, small k can lead to overfitting, too large k can underfit\n",
    "#use optimal n_neighbors parameter from above\n",
    "knn = KNeighborsClassifier(n_neighbors = 3)\n",
    "knn.fit(X_scaled, y_train)\n",
    "y_pred = knn.predict(X_test_scaled)\n",
    "print('Test set predictions:\\n {}'.format(y_pred))"
   ]
  },
  {
   "cell_type": "markdown",
   "metadata": {},
   "source": [
    "### K-Nearest Neighbors Performance"
   ]
  },
  {
   "cell_type": "code",
   "execution_count": 64,
   "metadata": {},
   "outputs": [
    {
     "data": {
      "text/plain": [
       "0.82105263157894737"
      ]
     },
     "execution_count": 64,
     "metadata": {},
     "output_type": "execute_result"
    }
   ],
   "source": [
    "#measure accuracy for training set\n",
    "knn.score(X_scaled, y_train)"
   ]
  },
  {
   "cell_type": "code",
   "execution_count": 65,
   "metadata": {},
   "outputs": [
    {
     "data": {
      "text/plain": [
       "0.62195121951219512"
      ]
     },
     "execution_count": 65,
     "metadata": {},
     "output_type": "execute_result"
    }
   ],
   "source": [
    "#measure accuracy for test set\n",
    "knn.score(X_test_scaled, y_test)"
   ]
  },
  {
   "cell_type": "code",
   "execution_count": 66,
   "metadata": {},
   "outputs": [
    {
     "name": "stdout",
     "output_type": "stream",
     "text": [
      "[[26 16]\n",
      " [15 25]]\n"
     ]
    }
   ],
   "source": [
    "#generate confusion matrix\n",
    "#    p0    p1\n",
    "#a0  TP    FN\n",
    "#a1  FP    TN\n",
    "#accuracy TP + TN/(all)\n",
    "from sklearn.metrics import confusion_matrix\n",
    "print(confusion_matrix(y_test, y_pred))"
   ]
  },
  {
   "cell_type": "code",
   "execution_count": 67,
   "metadata": {},
   "outputs": [
    {
     "name": "stdout",
     "output_type": "stream",
     "text": [
      "             precision    recall  f1-score   support\n",
      "\n",
      "          0       0.63      0.62      0.63        42\n",
      "          1       0.61      0.62      0.62        40\n",
      "\n",
      "avg / total       0.62      0.62      0.62        82\n",
      "\n"
     ]
    }
   ],
   "source": [
    "from sklearn.metrics import classification_report\n",
    "#precision ppv = tp/(tp+fp)\n",
    "#recall = tp/(tp + fn)\n",
    "#f1 score = 2*precision*recall/(precision + recall)\n",
    "print(classification_report(y_test, y_pred))\n",
    "#we can see that our classifier fails to correctly classify high ranking beers."
   ]
  },
  {
   "cell_type": "markdown",
   "metadata": {},
   "source": [
    "## Machine Learning Model: Logistic Regression\n",
    "Find the optimal regularization parameter 'C' to use with logistic regression."
   ]
  },
  {
   "cell_type": "code",
   "execution_count": 68,
   "metadata": {},
   "outputs": [
    {
     "name": "stdout",
     "output_type": "stream",
     "text": [
      "{'C': 1}\n",
      "0.689473684211\n"
     ]
    }
   ],
   "source": [
    "from sklearn.linear_model import LogisticRegression\n",
    "logreg = LogisticRegression()\n",
    "#tune hyperparameters using a cross-validation set\n",
    "from sklearn.model_selection import GridSearchCV\n",
    "#param_grid = {'n_neighbors': np.arange(1, 50)}\n",
    "param_grid = {'C': [0.001,0.01,0.1,1,10,100]}\n",
    "logreg_cv = GridSearchCV(logreg, param_grid, cv=5)\n",
    "X_s = preprocessing.scale(X)\n",
    "logreg_cv.fit(X_scaled, y_train)\n",
    "print(logreg_cv.best_params_)\n",
    "print(logreg_cv.best_score_)"
   ]
  },
  {
   "cell_type": "code",
   "execution_count": 69,
   "metadata": {
    "collapsed": true
   },
   "outputs": [],
   "source": [
    "#The regularization paramater 'C' should be adjusted to prevent over/under fitting.  Use the optimized value from above.\n",
    "logreg = LogisticRegression(C = 1)\n",
    "logreg.fit(X_scaled, y_train)\n",
    "y_pred = logreg.predict(X_test_scaled)"
   ]
  },
  {
   "cell_type": "markdown",
   "metadata": {},
   "source": [
    "### Logistic Regression Performance"
   ]
  },
  {
   "cell_type": "code",
   "execution_count": 70,
   "metadata": {},
   "outputs": [
    {
     "name": "stdout",
     "output_type": "stream",
     "text": [
      "[[30 12]\n",
      " [15 25]]\n"
     ]
    }
   ],
   "source": [
    "print(confusion_matrix(y_test, y_pred))"
   ]
  },
  {
   "cell_type": "code",
   "execution_count": 71,
   "metadata": {},
   "outputs": [
    {
     "name": "stdout",
     "output_type": "stream",
     "text": [
      "             precision    recall  f1-score   support\n",
      "\n",
      "          0       0.67      0.71      0.69        42\n",
      "          1       0.68      0.62      0.65        40\n",
      "\n",
      "avg / total       0.67      0.67      0.67        82\n",
      "\n"
     ]
    }
   ],
   "source": [
    "print(classification_report(y_test, y_pred))"
   ]
  },
  {
   "cell_type": "code",
   "execution_count": 72,
   "metadata": {
    "scrolled": false
   },
   "outputs": [
    {
     "data": {
      "image/png": "[encoded data removed]",
      "text/plain": [
       "<matplotlib.figure.Figure at 0x1fa1f8a2ef0>"
      ]
     },
     "metadata": {},
     "output_type": "display_data"
    }
   ],
   "source": [
    "from sklearn.metrics import roc_curve\n",
    "y_pred_prob = logreg.predict_proba(X_test_scaled)[:,1]\n",
    "fpr, tpr, thresholds = roc_curve(y_test, y_pred_prob)\n",
    "plt.plot([0, 1], [0, 1], 'k--')\n",
    "plt.plot(fpr, tpr, label='Logistic Regression')\n",
    "plt.xlabel('False Positive Rate')\n",
    "plt.ylabel('True Positive Rate')\n",
    "plt.title('Logistic Regression ROC Curve')\n",
    "plt.show();"
   ]
  },
  {
   "cell_type": "code",
   "execution_count": 73,
   "metadata": {},
   "outputs": [
    {
     "data": {
      "text/plain": [
       "0.71845238095238095"
      ]
     },
     "execution_count": 73,
     "metadata": {},
     "output_type": "execute_result"
    }
   ],
   "source": [
    "from sklearn.metrics import roc_auc_score\n",
    "roc_auc_score(y_test, y_pred_prob)"
   ]
  },
  {
   "cell_type": "markdown",
   "metadata": {},
   "source": [
    "### Logistic Regression Interpretation\n",
    "If we make a table of the coefficients for logistic regression, we see that the three highest positive features (more likely to rate above average) are the alcohol by volumne (ABV), the rating of the brewery (BrewRate), and if the beer is a Stout (BeerType_Stout).  The most negative features (more likely to rate below average) are haveing a brewery in the Northeast (Region_Northeast), and having a large number of beers rated on the site (NBrewRate)."
   ]
  },
  {
   "cell_type": "code",
   "execution_count": 75,
   "metadata": {},
   "outputs": [
    {
     "data": {
      "text/html": [
       "<div>\n",
       "<style>\n",
       "    .dataframe thead tr:only-child th {\n",
       "        text-align: right;\n",
       "    }\n",
       "\n",
       "    .dataframe thead th {\n",
       "        text-align: left;\n",
       "    }\n",
       "\n",
       "    .dataframe tbody tr th {\n",
       "        vertical-align: top;\n",
       "    }\n",
       "</style>\n",
       "<table border=\"1\" class=\"dataframe\">\n",
       "  <thead>\n",
       "    <tr style=\"text-align: right;\">\n",
       "      <th></th>\n",
       "      <th>Feature</th>\n",
       "      <th>Coeff</th>\n",
       "    </tr>\n",
       "  </thead>\n",
       "  <tbody>\n",
       "    <tr>\n",
       "      <th>0</th>\n",
       "      <td>ABV</td>\n",
       "      <td>1.0033082664191102</td>\n",
       "    </tr>\n",
       "    <tr>\n",
       "      <th>1</th>\n",
       "      <td>BrewRate</td>\n",
       "      <td>0.8946300582234792</td>\n",
       "    </tr>\n",
       "    <tr>\n",
       "      <th>2</th>\n",
       "      <td>NBrewRate</td>\n",
       "      <td>-0.38127196897633125</td>\n",
       "    </tr>\n",
       "    <tr>\n",
       "      <th>3</th>\n",
       "      <td>NDays</td>\n",
       "      <td>0.09513122393269302</td>\n",
       "    </tr>\n",
       "    <tr>\n",
       "      <th>4</th>\n",
       "      <td>BeerType_IPA</td>\n",
       "      <td>0.1722110356488983</td>\n",
       "    </tr>\n",
       "    <tr>\n",
       "      <th>5</th>\n",
       "      <td>BeerType_Pale Ale</td>\n",
       "      <td>0.05951692530909958</td>\n",
       "    </tr>\n",
       "    <tr>\n",
       "      <th>6</th>\n",
       "      <td>BeerType_Sour</td>\n",
       "      <td>0.4190568353110489</td>\n",
       "    </tr>\n",
       "    <tr>\n",
       "      <th>7</th>\n",
       "      <td>BeerType_Saison / Farmhouse Ale</td>\n",
       "      <td>-0.011816753893708664</td>\n",
       "    </tr>\n",
       "    <tr>\n",
       "      <th>8</th>\n",
       "      <td>BeerType_Stout</td>\n",
       "      <td>0.516520040491474</td>\n",
       "    </tr>\n",
       "    <tr>\n",
       "      <th>9</th>\n",
       "      <td>BrewType_Micro Brewery</td>\n",
       "      <td>-0.12149935915081726</td>\n",
       "    </tr>\n",
       "    <tr>\n",
       "      <th>10</th>\n",
       "      <td>BrewType_Brew Pub</td>\n",
       "      <td>-0.02896076659717403</td>\n",
       "    </tr>\n",
       "    <tr>\n",
       "      <th>11</th>\n",
       "      <td>Region_Midwest</td>\n",
       "      <td>-0.08384846065858594</td>\n",
       "    </tr>\n",
       "    <tr>\n",
       "      <th>12</th>\n",
       "      <td>Region_Northeast</td>\n",
       "      <td>-0.16667402677597898</td>\n",
       "    </tr>\n",
       "    <tr>\n",
       "      <th>13</th>\n",
       "      <td>Region_South</td>\n",
       "      <td>0.29233738525079517</td>\n",
       "    </tr>\n",
       "    <tr>\n",
       "      <th>14</th>\n",
       "      <td>Region_West</td>\n",
       "      <td>-0.09901738988053456</td>\n",
       "    </tr>\n",
       "  </tbody>\n",
       "</table>\n",
       "</div>"
      ],
      "text/plain": [
       "                            Feature                  Coeff\n",
       "0                               ABV     1.0033082664191102\n",
       "1                          BrewRate     0.8946300582234792\n",
       "2                         NBrewRate   -0.38127196897633125\n",
       "3                             NDays    0.09513122393269302\n",
       "4                      BeerType_IPA     0.1722110356488983\n",
       "5                 BeerType_Pale Ale    0.05951692530909958\n",
       "6                     BeerType_Sour     0.4190568353110489\n",
       "7   BeerType_Saison / Farmhouse Ale  -0.011816753893708664\n",
       "8                    BeerType_Stout      0.516520040491474\n",
       "9            BrewType_Micro Brewery   -0.12149935915081726\n",
       "10                BrewType_Brew Pub   -0.02896076659717403\n",
       "11                   Region_Midwest   -0.08384846065858594\n",
       "12                 Region_Northeast   -0.16667402677597898\n",
       "13                     Region_South    0.29233738525079517\n",
       "14                      Region_West   -0.09901738988053456"
      ]
     },
     "execution_count": 75,
     "metadata": {},
     "output_type": "execute_result"
    }
   ],
   "source": [
    "#Make a table of the coefficients\n",
    "columns = np.array(list(X)).reshape(-1,1)\n",
    "coeffs = np.reshape(logreg.coef_, (-1,1))\n",
    "coeffs = np.concatenate((columns, coeffs),axis=1)\n",
    "pd.DataFrame(coeffs, columns = ['Feature', 'Coeff'])"
   ]
  },
  {
   "cell_type": "markdown",
   "metadata": {},
   "source": [
    "## Summary\n",
    "\n",
    "The logistic regression model outperforms the k-nearest neighbors model.  The logistic regression model gives a higher f1 score. From the confusion matrix, we can see that the logistic regression model does a better job predicting which beers rate below average.\n",
    "\n",
    "### How could this model be improved?\n",
    "\n",
    "This sample size was very small compared to the number of beers rated on Untappd.  Would scraping more of this data help?  It depends.\n",
    "\n",
    "Plotting the learning curve allows us to see how the performance of the model improves as additional training examples are added.  The learning curve is a plot of score (performance metric) versus m (number of samples used in training). The score of the cross validation set should increase with the number of samples, but will eventually plateau and reach a limit.  The learning curve below shows the performance of the logistic regression model.  It appears that the cross-validation set is near the performance limit even with the small sample set available. Perhaps if we gather 10X more data, we would see a 5% improvement in performance."
   ]
  },
  {
   "cell_type": "code",
   "execution_count": 80,
   "metadata": {},
   "outputs": [
    {
     "data": {
      "image/png": "[encoded data removed]",
      "text/plain": [
       "<matplotlib.figure.Figure at 0x1fa20cfde48>"
      ]
     },
     "metadata": {},
     "output_type": "display_data"
    }
   ],
   "source": [
    "#plot the learning curve, would more data help?\n",
    "#function from http://scikit-learn.org/stable/auto_examples/model_selection/plot_learning_curve.html\n",
    "from sklearn.model_selection import ShuffleSplit\n",
    "from sklearn.model_selection import learning_curve\n",
    "def plot_learning_curve(estimator, title, X, y, ylim=None, cv=None,\n",
    "                        n_jobs=1, train_sizes=np.linspace(.1, 1.0, 5)):\n",
    "    \"\"\"\n",
    "    Generate a simple plot of the test and training learning curve.\n",
    "\n",
    "    Parameters\n",
    "    ----------\n",
    "    estimator : object type that implements the \"fit\" and \"predict\" methods\n",
    "        An object of that type which is cloned for each validation.\n",
    "\n",
    "    title : string\n",
    "        Title for the chart.\n",
    "\n",
    "    X : array-like, shape (n_samples, n_features)\n",
    "        Training vector, where n_samples is the number of samples and\n",
    "        n_features is the number of features.\n",
    "\n",
    "    y : array-like, shape (n_samples) or (n_samples, n_features), optional\n",
    "        Target relative to X for classification or regression;\n",
    "        None for unsupervised learning.\n",
    "\n",
    "    ylim : tuple, shape (ymin, ymax), optional\n",
    "        Defines minimum and maximum yvalues plotted.\n",
    "\n",
    "    cv : int, cross-validation generator or an iterable, optional\n",
    "        Determines the cross-validation splitting strategy.\n",
    "        Possible inputs for cv are:\n",
    "          - None, to use the default 3-fold cross-validation,\n",
    "          - integer, to specify the number of folds.\n",
    "          - An object to be used as a cross-validation generator.\n",
    "          - An iterable yielding train/test splits.\n",
    "\n",
    "        For integer/None inputs, if ``y`` is binary or multiclass,\n",
    "        :class:`StratifiedKFold` used. If the estimator is not a classifier\n",
    "        or if ``y`` is neither binary nor multiclass, :class:`KFold` is used.\n",
    "\n",
    "        Refer :ref:`User Guide <cross_validation>` for the various\n",
    "        cross-validators that can be used here.\n",
    "\n",
    "    n_jobs : integer, optional\n",
    "        Number of jobs to run in parallel (default 1).\n",
    "    \"\"\"\n",
    "    plt.figure()\n",
    "    plt.title(title)\n",
    "    if ylim is not None:\n",
    "        plt.ylim(*ylim)\n",
    "    plt.xlabel(\"Training examples\")\n",
    "    plt.ylabel(\"Score\")\n",
    "    train_sizes, train_scores, test_scores = learning_curve(\n",
    "        estimator, X, y, cv=cv, n_jobs=n_jobs, train_sizes=train_sizes)\n",
    "    train_scores_mean = np.mean(train_scores, axis=1)\n",
    "    train_scores_std = np.std(train_scores, axis=1)\n",
    "    test_scores_mean = np.mean(test_scores, axis=1)\n",
    "    test_scores_std = np.std(test_scores, axis=1)\n",
    "    plt.grid()\n",
    "\n",
    "    plt.fill_between(train_sizes, train_scores_mean - train_scores_std,\n",
    "                     train_scores_mean + train_scores_std, alpha=0.1,\n",
    "                     color=\"r\")\n",
    "    plt.fill_between(train_sizes, test_scores_mean - test_scores_std,\n",
    "                     test_scores_mean + test_scores_std, alpha=0.1, color=\"g\")\n",
    "    plt.plot(train_sizes, train_scores_mean, 'o-', color=\"r\",\n",
    "             label=\"Training score\")\n",
    "    plt.plot(train_sizes, test_scores_mean, 'o-', color=\"g\",\n",
    "             label=\"Cross-validation score\")\n",
    "\n",
    "    plt.legend(loc=\"best\")\n",
    "    return plt\n",
    "\n",
    "\n",
    "title = \"Learning Curve Logistic Regression\"\n",
    "# Cross validation with 100 iterations to get smoother mean test and train\n",
    "# score curves, each time with 20% data randomly selected as a validation set.\n",
    "cv = ShuffleSplit(n_splits=100, test_size=0.2, random_state=0)\n",
    "\n",
    "estimator = logreg\n",
    "plot_learning_curve(estimator, title, X_s, y, ylim=(0, 1.01), cv=cv, n_jobs=4)\n",
    "\n",
    "plt.show()"
   ]
  },
  {
   "cell_type": "markdown",
   "metadata": {},
   "source": [
    "So, how could the model actually be improved?  Since the score for both the training and cross-validation sets are still a bit low, adding more features could help with this high-bias problem.  In cleaning this data, I had to remove some of the possible features, including types of beers where representation was low (lagers, hefeweizens), and I lumped states together into regions instead of keeping the state feature.  The model may or may not have benefited from adding polynomial features.  It also would have been interesting to add a population feature - what is the population of the metro-area of the brewery?\n",
    "\n",
    "## Conclusions\n",
    "\n",
    "Overall, I think this small project suggests that there is promise in predicting beer ratings from this accesible data.  It is important to remember that we can only attempt to predict the rating on Untappd, and this may or may not represent the opinions of beer drinkers at large.  Also, I don't have data about how these ratings correlate to actual sales - sour beers may rate well on Untappd, but how many people actually drink sour beers?  Endless possibilities!"
   ]
  }
 ],
 "metadata": {
  "kernelspec": {
   "display_name": "Python 3",
   "language": "python",
   "name": "python3"
  },
  "language_info": {
   "codemirror_mode": {
    "name": "ipython",
    "version": 3
   },
   "file_extension": ".py",
   "mimetype": "text/x-python",
   "name": "python",
   "nbconvert_exporter": "python",
   "pygments_lexer": "ipython3",
   "version": "3.6.3"
  }
 },
 "nbformat": 4,
 "nbformat_minor": 2
}
